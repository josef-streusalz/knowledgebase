{
 "cells": [
  {
   "cell_type": "markdown",
   "id": "fe19f5a7-6223-4060-a940-1ec7150f6118",
   "metadata": {},
   "source": [
    "# Installation"
   ]
  },
  {
   "cell_type": "code",
   "execution_count": null,
   "id": "9c93cec4-e3de-4050-bac2-ccc8bea375ac",
   "metadata": {},
   "outputs": [],
   "source": [
    "# 1. Create and activate a conda env with R dependencies (for full functionality):\n",
    "conda create -n scFates -c conda-forge -c r python=3.11 r-mgcv rpy2 -y\n",
    "conda activate scFates\n",
    "\n",
    "# 2. Install scFates:\n",
    "pip install scFates\n",
    "\n",
    "# (Optional) If you want the very latest development version:\n",
    "pip install git+https://github.com/LouisFaure/scFates\n"
   ]
  },
  {
   "cell_type": "markdown",
   "id": "571aba50-60bb-414e-af6b-c3e551673f7f",
   "metadata": {},
   "source": [
    "# Import Libraries"
   ]
  },
  {
   "cell_type": "code",
   "execution_count": 1,
   "id": "5ce23fc8-76bc-43dd-a550-f7fdfdcc6303",
   "metadata": {},
   "outputs": [],
   "source": [
    "import scanpy as sc\n",
    "import scFates as scf\n",
    "import matplotlib.pyplot as plt"
   ]
  },
  {
   "cell_type": "markdown",
   "id": "a818646d-cf50-4d5f-b1f8-1f98b8723cef",
   "metadata": {},
   "source": [
    "# Data Acquisition"
   ]
  },
  {
   "cell_type": "code",
   "execution_count": 2,
   "id": "67053f4f-45d9-4da8-95fb-8dfb0335e3e7",
   "metadata": {},
   "outputs": [
    {
     "name": "stdout",
     "output_type": "stream",
     "text": [
      "/storage/users/job37yv/Projects/Teaching/scFates\n"
     ]
    }
   ],
   "source": [
    "!pwd"
   ]
  },
  {
   "cell_type": "code",
   "execution_count": 1,
   "id": "78a80bc8-448b-44d0-ad59-f31740771554",
   "metadata": {},
   "outputs": [],
   "source": [
    "# 1. Make a directory and enter it\n",
    "!mkdir -p data/E-MTAB-6149/fastq\n",
    "!cd data/E-MTAB-6149/fastq"
   ]
  },
  {
   "cell_type": "code",
   "execution_count": 4,
   "id": "f455f4f9-ee54-4de8-829a-1fa93909b0df",
   "metadata": {},
   "outputs": [
    {
     "name": "stdout",
     "output_type": "stream",
     "text": [
      "Downloading BT1A.R1.fastq.gz …\n",
      "Downloading BT1A.R2.fastq.gz …\n",
      "Downloading 1247.R1.fastq.gz …\n",
      "Downloading 1247.R2.fastq.gz …\n",
      "Downloading 1247.R3.fastq.gz …\n",
      "Done.\n"
     ]
    }
   ],
   "source": [
    "from ftplib import FTP\n",
    "import os\n",
    "\n",
    "# 1. Make sure output dir exists and switch into it\n",
    "out_dir = 'data/E-MTAB-6149/fastq'\n",
    "os.makedirs(out_dir, exist_ok=True)\n",
    "os.chdir(out_dir)\n",
    "\n",
    "# 2. Connect & login\n",
    "ftp = FTP('ftp.ebi.ac.uk')\n",
    "ftp.login()  # anonymous\n",
    "\n",
    "# 3. Navigate to the folder containing your files\n",
    "ftp.cwd('biostudies/fire/E-MTAB-/149/E-MTAB-6149/Files')\n",
    "\n",
    "# 4. List of files to grab\n",
    "files = [\n",
    "    \"BT1A.R1.fastq.gz\",\n",
    "    \"BT1A.R2.fastq.gz\",\n",
    "    \"1247.R1.fastq.gz\",\n",
    "    \"1247.R2.fastq.gz\",\n",
    "    \"1247.R3.fastq.gz\"\n",
    "]\n",
    "\n",
    "# 5. Download each\n",
    "for fn in files:\n",
    "    print(f\"Downloading {fn} …\")\n",
    "    with open(fn, 'wb') as f:\n",
    "        ftp.retrbinary(f'RETR {fn}', f.write)\n",
    "\n",
    "ftp.quit()\n",
    "print(\"Done.\")\n"
   ]
  },
  {
   "cell_type": "code",
   "execution_count": 4,
   "id": "b81d523b-b982-4032-b122-07aad18d0e3f",
   "metadata": {},
   "outputs": [
    {
     "name": "stdout",
     "output_type": "stream",
     "text": [
      "unzip:  cannot find or open E-MTAB-6149.processed.2.zip, E-MTAB-6149.processed.2.zip.zip or E-MTAB-6149.processed.2.zip.ZIP.\n"
     ]
    }
   ],
   "source": [
    "!unzip E-MTAB-6149.processed.2.zip -d E-MTAB-6149-data"
   ]
  },
  {
   "cell_type": "code",
   "execution_count": null,
   "id": "25f2eb5d-b769-4abf-a331-19aded665824",
   "metadata": {},
   "outputs": [],
   "source": [
    "adata = sc.read_csv('E-MTAB-6149-data/counts_matrix.csv.gz').T  # transpose if needed\n"
   ]
  },
  {
   "cell_type": "markdown",
   "id": "c58297cd-7090-4672-a5d6-97fab0ad5caf",
   "metadata": {},
   "source": [
    "# Metadata"
   ]
  },
  {
   "cell_type": "code",
   "execution_count": 13,
   "id": "0d32ae90-885e-45b3-b9c8-c2341bca4ead",
   "metadata": {},
   "outputs": [],
   "source": [
    "import os\n",
    "import pandas as pd\n",
    "\n",
    "# 1. Your absolute “project” root (just up to scFates)\n",
    "root_dir = \"/home/job37yv/Projects_shared/Teaching/scFates\"\n",
    "\n",
    "# 2. Your data/output directory *relative* to that root\n",
    "data_dir = \"data/E-MTAB-6149/fastq\"\n",
    "\n",
    "# 3. Build the full path and make sure it exists\n",
    "out_dir = os.path.join(root_dir, data_dir)\n",
    "os.makedirs(out_dir, exist_ok=True)\n",
    "\n",
    "# 4. (Optionally) cd into the project root if you want all operations relative to it\n",
    "os.chdir(root_dir)\n"
   ]
  },
  {
   "cell_type": "code",
   "execution_count": 15,
   "id": "1048edb4-c6d9-4111-96b5-534e05300efb",
   "metadata": {},
   "outputs": [
    {
     "name": "stdout",
     "output_type": "stream",
     "text": [
      "Working dir: /storage/users/job37yv/Projects/Teaching/scFates\n",
      "Metadata written to: /home/job37yv/Projects_shared/Teaching/scFates/data/E-MTAB-6149/fastq/metadata.csv\n"
     ]
    }
   ],
   "source": [
    "# 5. Prepare your metadata DataFrame\n",
    "metadata = pd.DataFrame([\n",
    "    {'sample':'BT1A',\n",
    "     'organism':'Homo sapiens','\n",
    "     individual':1,\n",
    "     'disease':'lung carcinoma',\n",
    "     'biopsy_site':'tumor core',\n",
    "     'organism_part':'lung',\n",
    "     'age':70,\n",
    "     'age_unit':'year',\n",
    "     'sex':'female'},\n",
    "    {'sample':'BT1B',\n",
    "     'organism':'Homo sapiens',\n",
    "     'individual':1,\n",
    "     'disease':'lung carcinoma',\n",
    "     'biopsy_site':'tumor middle',\n",
    "     'organism_part':'lung',\n",
    "     'age':70,\n",
    "     'age_unit':'year',\n",
    "     'sex':'female'},\n",
    "    {'sample':'BT1C',\n",
    "     'organism':'Homo sapiens',\n",
    "     'individual':1,\n",
    "     'disease':'lung carcinoma',\n",
    "     'biopsy_site':'tumor edge',\n",
    "     'organism_part':'lung',\n",
    "     'age':70,\n",
    "     'age_unit':'year',\n",
    "     'sex':'female'},\n",
    "    {'sample':'BT2A',\n",
    "     'organism':'Homo sapiens',\n",
    "     'individual':2,\n",
    "     'disease':'lung carcinoma',\n",
    "     'biopsy_site':'tumor middle',\n",
    "     'organism_part':'lung',\n",
    "     'age':86,\n",
    "     'age_unit':'year',\n",
    "     'sex':'male'}\n",
    "])\n",
    "\n",
    "# 6. Write the CSV into your data folder\n",
    "csv_path = os.path.join(out_dir, 'metadata.csv')\n",
    "metadata.to_csv(csv_path, index=False)\n",
    "\n",
    "print(\"Working dir:\", os.getcwd())\n",
    "print(\"Metadata written to:\", csv_path)"
   ]
  },
  {
   "cell_type": "code",
   "execution_count": null,
   "id": "310a0380-e800-4fe9-b565-7135ba688821",
   "metadata": {},
   "outputs": [],
   "source": []
  },
  {
   "cell_type": "markdown",
   "id": "95e631b4-ddb5-4537-9ad4-4072e50b4c4b",
   "metadata": {},
   "source": [
    "# Read mapping"
   ]
  },
  {
   "cell_type": "code",
   "execution_count": null,
   "id": "b8c6cffb-f7fe-403b-b8fe-fd802d2f77e2",
   "metadata": {},
   "outputs": [],
   "source": []
  },
  {
   "cell_type": "code",
   "execution_count": 8,
   "id": "d34f415c-a566-4f70-bc8b-f7d323f8a7f8",
   "metadata": {},
   "outputs": [],
   "source": []
  },
  {
   "cell_type": "code",
   "execution_count": 6,
   "id": "3731291b-82f1-41af-9673-fd5b6c5d33d9",
   "metadata": {},
   "outputs": [
    {
     "name": "stdout",
     "output_type": "stream",
     "text": [
      "Scripts created in './scripts':\n",
      "1) download_reference.sh\n",
      "2) build_star_index.sh\n",
      "3) run_star_solo.sh\n",
      "\n",
      "Run them in this order from your notebook root:\n",
      "bash scripts/download_reference.sh\n",
      "bash scripts/build_star_index.sh\n",
      "bash scripts/run_star_solo.sh\n"
     ]
    }
   ],
   "source": [
    "from pathlib import Path\n",
    "import stat\n",
    "\n",
    "# Use current notebook directory as project root\n",
    "root_dir = Path('.')\n",
    "data_dir = root_dir / \"data\" / \"E-MTAB-6149\"\n",
    "fastq_dir = data_dir / \"fastq\"\n",
    "reference_dir = root_dir / \"data\" / \"reference\" / \"GRCh38\"\n",
    "star_index_dir = reference_dir / \"STAR_index\"\n",
    "results_dir = root_dir / \"results\" / \"STARsolo\" / \"BT1A\"\n",
    "scripts_dir = root_dir / \"scripts\"\n",
    "\n",
    "# Ensure directories exist (relative to project root)\n",
    "for d in [data_dir, fastq_dir, reference_dir, star_index_dir, results_dir, scripts_dir]:\n",
    "    d.mkdir(parents=True, exist_ok=True)\n",
    "\n",
    "# Script file paths\n",
    "download_script = scripts_dir / \"download_reference.sh\"\n",
    "index_script = scripts_dir / \"build_star_index.sh\"\n",
    "run_script = scripts_dir / \"run_star_solo.sh\"\n",
    "\n",
    "# 1) download_reference.sh\n",
    "download_script.write_text(f\"\"\"#!/usr/bin/env bash\n",
    "set -euo pipefail\n",
    "\n",
    "ROOT=\"$(pwd)\"\n",
    "REF_DIR=\"$ROOT/data/reference/GRCh38\"\n",
    "mkdir -p \"$REF_DIR\"\n",
    "\n",
    "echo \"Downloading genome FASTA...\"\n",
    "wget -c https://ftp.ebi.ac.uk/pub/databases/gencode/Gencode_human/release_42/GRCh38.primary_assembly.genome.fa.gz \\\\\n",
    "     -O \"$REF_DIR/genome.fa.gz\"\n",
    "echo \"Decompressing FASTA...\"\n",
    "gunzip -c \"$REF_DIR/genome.fa.gz\" > \"$REF_DIR/GRCh38.primary_assembly.genome.fa\"\n",
    "\n",
    "echo \"Downloading GTF...\"\n",
    "wget -c https://ftp.ebi.ac.uk/pub/databases/gencode/Gencode_human/release_42/gencode.v42.annotation.gtf.gz \\\\\n",
    "     -O \"$REF_DIR/annotations.gtf.gz\"\n",
    "echo \"Decompressing GTF...\"\n",
    "gunzip -c \"$REF_DIR/annotations.gtf.gz\" > \"$REF_DIR/gencode.v42.annotation.gtf\"\n",
    "\n",
    "echo \"Reference download complete.\"\n",
    "\"\"\")\n",
    "\n",
    "# 2) build_star_index.sh\n",
    "index_script.write_text(f\"\"\"#!/usr/bin/env bash\n",
    "set -euo pipefail\n",
    "\n",
    "ROOT=\"$(pwd)\"\n",
    "STAR_INDEX=\"$ROOT/data/reference/GRCh38/STAR_index\"\n",
    "mkdir -p \"$STAR_INDEX\"\n",
    "\n",
    "echo \"Building STAR index...\"\n",
    "STAR --runMode genomeGenerate \\\\\n",
    "     --runThreadN 8 \\\\\n",
    "     --genomeDir \"$STAR_INDEX\" \\\\\n",
    "     --genomeFastaFiles \"$ROOT/data/reference/GRCh38/GRCh38.primary_assembly.genome.fa\" \\\\\n",
    "     --sjdbGTFfile \"$ROOT/data/reference/GRCh38/gencode.v42.annotation.gtf\" \\\\\n",
    "     --sjdbOverhang 100\n",
    "\n",
    "echo \"STAR index built at $STAR_INDEX\"\n",
    "\"\"\")\n",
    "\n",
    "# 3) run_star_solo.sh\n",
    "run_script.write_text(f\"\"\"#!/usr/bin/env bash\n",
    "set -euo pipefail\n",
    "\n",
    "# ensure STAR in PATH\n",
    "export PATH=\"/home/job37yv/miniforge3/envs/scfates-star/bin:$PATH\"\n",
    "\n",
    "ROOT=\"$(pwd)\"\n",
    "FASTQ_DIR=\"$ROOT/data/E-MTAB-6149/fastq\"\n",
    "STAR_INDEX=\"$ROOT/data/reference/GRCh38/STAR_index\"\n",
    "OUT_DIR=\"$ROOT/results/STARsolo/BT1A\"\n",
    "WHITELIST=\"$CONDA_PREFIX/share/STAR/whitelist/3M-february-2018.txt\"\n",
    "\n",
    "mkdir -p \"$OUT_DIR\"\n",
    "echo \"Running STARsolo with 10× V2 parameters and whitelist $WHITELIST…\"\n",
    "\n",
    "STAR --runThreadN 8 \\\n",
    "     --genomeDir \"$STAR_INDEX\" \\\n",
    "     --readFilesIn \\\n",
    "         \"$FASTQ_DIR/BT1A.R2.fastq.gz\" \\\n",
    "         \"$FASTQ_DIR/BT1A.R1.fastq.gz\" \\\n",
    "     --readFilesCommand zcat \\\n",
    "     --outFileNamePrefix \"$OUT_DIR/\" \\\n",
    "     --soloType CB_UMI_Simple \\\n",
    "     --soloCBwhitelist \"$WHITELIST\" \\\n",
    "     --soloCBlen       14,0 \\\n",
    "     --soloUMIlen      10,0 \\\n",
    "     --soloCBstart     1,0 \\\n",
    "     --soloUMIstart    15,0 \\\n",
    "     --soloFeatures    Gene\n",
    "\n",
    "echo \"Done. STARsolo output in $OUT_DIR/Solo.out/Gene\"\n",
    "\"\"\")\n",
    "\n",
    "# Make scripts executable\n",
    "for script in [download_script, index_script, run_script]:\n",
    "    script.chmod(script.stat().st_mode | stat.S_IXUSR)\n",
    "\n",
    "# Inform user\n",
    "print(\"Scripts created in './scripts':\")\n",
    "print(\"1) download_reference.sh\")\n",
    "print(\"2) build_star_index.sh\")\n",
    "print(\"3) run_star_solo.sh\")\n",
    "print(\"\\nRun them in this order from your notebook root:\")\n",
    "print(\"bash scripts/download_reference.sh\")\n",
    "print(\"bash scripts/build_star_index.sh\")\n",
    "print(\"bash scripts/run_star_solo.sh\")\n"
   ]
  },
  {
   "cell_type": "code",
   "execution_count": 3,
   "id": "2125d549-6da0-48bb-a6ac-a82e2368c997",
   "metadata": {},
   "outputs": [
    {
     "name": "stdout",
     "output_type": "stream",
     "text": [
      "/storage/users/job37yv/Projects/Teaching/scFates\n"
     ]
    }
   ],
   "source": [
    "!pwd"
   ]
  },
  {
   "cell_type": "code",
   "execution_count": 4,
   "id": "091449f3-4781-4d1f-88dc-94f47108f846",
   "metadata": {},
   "outputs": [
    {
     "name": "stdout",
     "output_type": "stream",
     "text": [
      "Downloading genome FASTA...\n",
      "--2025-05-25 19:30:23--  https://ftp.ebi.ac.uk/pub/databases/gencode/Gencode_human/release_42/GRCh38.primary_assembly.genome.fa.gz\n",
      "Resolving ftp.ebi.ac.uk (ftp.ebi.ac.uk)... 193.62.193.165\n",
      "Connecting to ftp.ebi.ac.uk (ftp.ebi.ac.uk)|193.62.193.165|:443... connected.\n",
      "HTTP request sent, awaiting response... 416 Requested Range Not Satisfiable\n",
      "\n",
      "    The file is already fully retrieved; nothing to do.\n",
      "\n",
      "Decompressing FASTA...\n",
      "Downloading GTF...\n",
      "--2025-05-25 19:30:42--  https://ftp.ebi.ac.uk/pub/databases/gencode/Gencode_human/release_42/gencode.v42.annotation.gtf.gz\n",
      "Resolving ftp.ebi.ac.uk (ftp.ebi.ac.uk)... 193.62.193.165\n",
      "Connecting to ftp.ebi.ac.uk (ftp.ebi.ac.uk)|193.62.193.165|:443... connected.\n",
      "HTTP request sent, awaiting response... 416 Requested Range Not Satisfiable\n",
      "\n",
      "    The file is already fully retrieved; nothing to do.\n",
      "\n",
      "Decompressing GTF...\n",
      "Reference download complete.\n"
     ]
    }
   ],
   "source": [
    "!bash scripts/download_reference.sh"
   ]
  },
  {
   "cell_type": "code",
   "execution_count": 14,
   "id": "df170d6c-032a-4e8c-9636-eac1cf28b931",
   "metadata": {},
   "outputs": [
    {
     "name": "stdout",
     "output_type": "stream",
     "text": [
      "Building STAR index...\n",
      "scripts/build_star_index.sh: line 9: STAR: command not found\n"
     ]
    }
   ],
   "source": [
    "bash scripts/build_star_index.sh"
   ]
  },
  {
   "cell_type": "code",
   "execution_count": 15,
   "id": "0c5ed801-9068-448b-b824-aa5290a6e0d0",
   "metadata": {},
   "outputs": [
    {
     "name": "stdout",
     "output_type": "stream",
     "text": [
      "Running STARsolo...\n",
      "scripts/run_star_solo.sh: line 11: STAR: command not found\n"
     ]
    }
   ],
   "source": [
    "bash scripts/run_star_solo.sh"
   ]
  },
  {
   "cell_type": "markdown",
   "id": "0e5826c4-dc12-45dc-aa74-de23e1c2796e",
   "metadata": {},
   "source": [
    "# Read counting"
   ]
  },
  {
   "cell_type": "code",
   "execution_count": null,
   "id": "6dfbcdb8-e653-498d-87a6-e4758aea4139",
   "metadata": {},
   "outputs": [],
   "source": []
  },
  {
   "cell_type": "code",
   "execution_count": null,
   "id": "268ee704-6c60-485e-8079-b27e6f00587b",
   "metadata": {},
   "outputs": [],
   "source": []
  },
  {
   "cell_type": "markdown",
   "id": "51a7f7b6-9725-4e93-976e-98751c6711f9",
   "metadata": {},
   "source": [
    "# Load mapped fastq into an AnnData"
   ]
  },
  {
   "cell_type": "code",
   "execution_count": null,
   "id": "7cc30288-01db-4972-9d47-a5458b77d615",
   "metadata": {},
   "outputs": [],
   "source": [
    "import scanpy as sc\n",
    "\n",
    "adata = sc.read_10x_mtx(\n",
    "    'results/STARsolo/BT1A/Solo.out/Gene',     # path to matrix folder\n",
    "    var_names='gene_symbols',\n",
    "    cache=True\n",
    ")\n",
    "\n",
    "# Add sample metadata\n",
    "import pandas as pd\n",
    "meta = pd.read_csv('data/E-MTAB-6149/fastq/metadata.csv')\n",
    "# filter metadata to BT1A row\n",
    "bt1a_meta = meta[meta.sample == 'BT1A'].iloc[0].to_dict()\n",
    "for k, v in bt1a_meta.items():\n",
    "    adata.obs[k] = v\n",
    "\n",
    "# QC and inspect\n",
    "sc.pp.filter_cells(adata, min_genes=200)\n",
    "sc.pp.filter_genes(adata, min_cells=3)\n",
    "print(adata)\n",
    "sc.pl.violin(adata, ['n_genes_by_counts', 'total_counts'], jitter=0.4)\n"
   ]
  },
  {
   "cell_type": "markdown",
   "id": "506740de-6e4a-4a7b-aa39-4b5a58f6f489",
   "metadata": {},
   "source": [
    "# Preprocessing"
   ]
  },
  {
   "cell_type": "code",
   "execution_count": null,
   "id": "a128c31b-d3e3-43a7-8535-b0b511896c4f",
   "metadata": {},
   "outputs": [],
   "source": [
    "# Basic QC\n",
    "sc.pp.filter_cells(adata, min_genes=200)\n",
    "sc.pp.filter_genes(adata, min_cells=3)\n",
    "\n",
    "# Normalization & log-transform\n",
    "sc.pp.normalize_total(adata, target_sum=1e4)\n",
    "sc.pp.log1p(adata)\n",
    "\n",
    "# Identify highly variable genes\n",
    "sc.pp.highly_variable_genes(adata, n_top_genes=2000)\n",
    "adata = adata[:, adata.var.highly_variable]\n",
    "\n",
    "# Scale and PCA\n",
    "sc.pp.scale(adata, max_value=10)\n",
    "sc.tl.pca(adata, svd_solver='arpack')\n",
    "\n",
    "# Neighbors & UMAP\n",
    "sc.pp.neighbors(adata, n_neighbors=15, n_pcs=40)\n",
    "sc.tl.umap(adata)\n"
   ]
  },
  {
   "cell_type": "markdown",
   "id": "de40c439-731f-43b0-bb67-5d04aae5ec1c",
   "metadata": {},
   "source": [
    "# Trajectory Inference with scFates"
   ]
  },
  {
   "cell_type": "code",
   "execution_count": null,
   "id": "261667ff-b7f2-4eb2-b4aa-aa1a13b1ba97",
   "metadata": {},
   "outputs": [],
   "source": [
    "# 1. Compute Diffusion Map (optional but recommended)\n",
    "sf.pp.diffusion(adata)\n",
    "\n",
    "# 2. Fit a principal tree\n",
    "sf.tl.tree(adata, use_pca=True)  \n",
    "\n",
    "# 3. Compute pseudotime along the tree\n",
    "sf.tl.pseudotime(adata, root_cell='0')  # choose an appropriate root\n",
    "\n",
    "# 4. Assign “fates” (branches)\n",
    "sf.tl.fates(adata)\n"
   ]
  },
  {
   "cell_type": "code",
   "execution_count": null,
   "id": "97a37d5a-6da8-48a7-96e2-385b0f0e0700",
   "metadata": {},
   "outputs": [],
   "source": []
  },
  {
   "cell_type": "markdown",
   "id": "a1bced8d-5206-45bf-a59d-2ce15d0c116a",
   "metadata": {},
   "source": [
    "# Visualization"
   ]
  },
  {
   "cell_type": "code",
   "execution_count": null,
   "id": "b5b4e70f-b7aa-45b6-93c0-8e56b219211a",
   "metadata": {},
   "outputs": [],
   "source": [
    "# UMAP colored by pseudotime\n",
    "sc.pl.umap(adata, color='pseudotime', cmap='viridis')\n",
    "\n",
    "# Overlay tree on UMAP\n",
    "sf.pl.tree_graph(adata, basis='umap', edge_width=1.0)\n",
    "\n",
    "# Plot individual branch trajectories\n",
    "sf.pl.plot_branch(adata, branch='branch_1', keys=['GeneA','GeneB'])\n"
   ]
  },
  {
   "cell_type": "code",
   "execution_count": null,
   "id": "69595e4d-1eab-4c83-8722-057b36752f24",
   "metadata": {},
   "outputs": [],
   "source": []
  },
  {
   "cell_type": "markdown",
   "id": "5fb08d5d-cf5b-4aa8-9b74-92e34882484c",
   "metadata": {},
   "source": [
    "# Differential Gene Testing Along Pseudotime"
   ]
  },
  {
   "cell_type": "code",
   "execution_count": null,
   "id": "9da2e098-16ec-478d-8144-95613cb817f9",
   "metadata": {},
   "outputs": [],
   "source": [
    "# Test association of gene expression with pseudotime\n",
    "sf.tl.test_association(adata, key='pseudotime')\n",
    "\n",
    "# Extract top genes\n",
    "top = adata.uns['test_association']['scores'].sort_values('pval').head(10)\n",
    "print(top)\n",
    "\n",
    "# Heatmap of top dynamic genes\n",
    "sf.pl.heatmap(adata, var_names=list(top.index), sort_by='pseudotime')\n"
   ]
  },
  {
   "cell_type": "code",
   "execution_count": null,
   "id": "6ed0070c-7423-45df-b833-ca446a4f8703",
   "metadata": {},
   "outputs": [],
   "source": []
  },
  {
   "cell_type": "code",
   "execution_count": null,
   "id": "a8d828fc-7f0d-48b6-ab0b-4577c78395ae",
   "metadata": {},
   "outputs": [],
   "source": []
  },
  {
   "cell_type": "code",
   "execution_count": null,
   "id": "f36ed173-5511-4101-998e-2dd48907d7e9",
   "metadata": {},
   "outputs": [],
   "source": []
  },
  {
   "cell_type": "code",
   "execution_count": null,
   "id": "35a2d586-1198-4ebb-92d5-9af76f7b523a",
   "metadata": {},
   "outputs": [],
   "source": []
  }
 ],
 "metadata": {
  "kernelspec": {
   "display_name": "Python (scfates-star)",
   "language": "python",
   "name": "scfates-star"
  },
  "language_info": {
   "codemirror_mode": {
    "name": "ipython",
    "version": 3
   },
   "file_extension": ".py",
   "mimetype": "text/x-python",
   "name": "python",
   "nbconvert_exporter": "python",
   "pygments_lexer": "ipython3",
   "version": "3.11.12"
  }
 },
 "nbformat": 4,
 "nbformat_minor": 5
}
